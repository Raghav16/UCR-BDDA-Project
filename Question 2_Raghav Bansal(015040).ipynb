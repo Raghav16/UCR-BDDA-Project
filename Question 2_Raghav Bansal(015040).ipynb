{
 "cells": [
  {
   "cell_type": "code",
   "execution_count": 1,
   "metadata": {},
   "outputs": [],
   "source": [
    "from pyspark.sql import SparkSession\n",
    "import pandas as pd\n",
    "import numpy as np\n",
    "import seaborn as sns\n",
    "import matplotlib.pyplot as plt\n"
   ]
  },
  {
   "cell_type": "code",
   "execution_count": 6,
   "metadata": {},
   "outputs": [],
   "source": [
    "spark = SparkSession.builder.appName('Question2').getOrCreate()\n",
    "data = spark.read.csv('insurance.csv', header=True, inferSchema=True)"
   ]
  },
  {
   "cell_type": "code",
   "execution_count": 10,
   "metadata": {},
   "outputs": [
    {
     "data": {
      "text/plain": [
       "<bound method DataFrame.head of DataFrame[age: int, sex: string, bmi: double, children: int, smoker: string, region: string, charges: double]>"
      ]
     },
     "execution_count": 10,
     "metadata": {},
     "output_type": "execute_result"
    }
   ],
   "source": [
    "data.head"
   ]
  },
  {
   "cell_type": "code",
   "execution_count": 11,
   "metadata": {},
   "outputs": [
    {
     "name": "stdout",
     "output_type": "stream",
     "text": [
      "+---+------+------+--------+------+---------+-----------+\n",
      "|age|   sex|   bmi|children|smoker|   region|    charges|\n",
      "+---+------+------+--------+------+---------+-----------+\n",
      "| 19|female|  27.9|       0|   yes|southwest|  16884.924|\n",
      "| 18|  male| 33.77|       1|    no|southeast|  1725.5523|\n",
      "| 28|  male|  33.0|       3|    no|southeast|   4449.462|\n",
      "| 33|  male|22.705|       0|    no|northwest|21984.47061|\n",
      "| 32|  male| 28.88|       0|    no|northwest|  3866.8552|\n",
      "| 31|female| 25.74|       0|    no|southeast|  3756.6216|\n",
      "+---+------+------+--------+------+---------+-----------+\n",
      "only showing top 6 rows\n",
      "\n"
     ]
    }
   ],
   "source": [
    "data.show(6)"
   ]
  },
  {
   "cell_type": "code",
   "execution_count": 12,
   "metadata": {},
   "outputs": [
    {
     "name": "stdout",
     "output_type": "stream",
     "text": [
      "root\n",
      " |-- age: integer (nullable = true)\n",
      " |-- sex: string (nullable = true)\n",
      " |-- bmi: double (nullable = true)\n",
      " |-- children: integer (nullable = true)\n",
      " |-- smoker: string (nullable = true)\n",
      " |-- region: string (nullable = true)\n",
      " |-- charges: double (nullable = true)\n",
      "\n"
     ]
    }
   ],
   "source": [
    "data.printSchema()"
   ]
  },
  {
   "cell_type": "code",
   "execution_count": 13,
   "metadata": {},
   "outputs": [
    {
     "data": {
      "text/plain": [
       "['age', 'sex', 'bmi', 'children', 'smoker', 'region', 'charges']"
      ]
     },
     "execution_count": 13,
     "metadata": {},
     "output_type": "execute_result"
    }
   ],
   "source": [
    "data.columns"
   ]
  },
  {
   "cell_type": "code",
   "execution_count": 14,
   "metadata": {},
   "outputs": [
    {
     "data": {
      "text/plain": [
       "7"
      ]
     },
     "execution_count": 14,
     "metadata": {},
     "output_type": "execute_result"
    }
   ],
   "source": [
    "len(data.columns)"
   ]
  },
  {
   "cell_type": "code",
   "execution_count": 17,
   "metadata": {},
   "outputs": [
    {
     "name": "stdout",
     "output_type": "stream",
     "text": [
      "+-------+------------------+------+------------------+-----------------+------+---------+------------------+\n",
      "|summary|               age|   sex|               bmi|         children|smoker|   region|           charges|\n",
      "+-------+------------------+------+------------------+-----------------+------+---------+------------------+\n",
      "|  count|              1338|  1338|              1338|             1338|  1338|     1338|              1338|\n",
      "|   mean| 39.20702541106129|  null|30.663396860986538|  1.0949177877429|  null|     null|13270.422265141257|\n",
      "| stddev|14.049960379216147|  null| 6.098186911679012|1.205492739781914|  null|     null|12110.011236693992|\n",
      "|    min|                18|female|             15.96|                0|    no|northeast|         1121.8739|\n",
      "|    max|                64|  male|             53.13|                5|   yes|southwest|       63770.42801|\n",
      "+-------+------------------+------+------------------+-----------------+------+---------+------------------+\n",
      "\n"
     ]
    }
   ],
   "source": [
    "data.describe().show()"
   ]
  },
  {
   "cell_type": "code",
   "execution_count": 28,
   "metadata": {},
   "outputs": [
    {
     "name": "stdout",
     "output_type": "stream",
     "text": [
      "+------+-----+\n",
      "|smoker|count|\n",
      "+------+-----+\n",
      "|    no| 1064|\n",
      "|   yes|  274|\n",
      "+------+-----+\n",
      "\n"
     ]
    },
    {
     "data": {
      "text/plain": [
       "<seaborn.axisgrid.FacetGrid at 0x7f6bfc536940>"
      ]
     },
     "execution_count": 28,
     "metadata": {},
     "output_type": "execute_result"
    },
    {
     "data": {
      "image/png": "[encoded data removed]",
      "text/plain": [
       "<Figure size 360x360 with 1 Axes>"
      ]
     },
     "metadata": {
      "needs_background": "light"
     },
     "output_type": "display_data"
    }
   ],
   "source": [
    "data.groupby('smoker').count().show()\n",
    "zx = data.toPandas()\n",
    "sns.catplot(x='smoker', kind='count', data=zx)"
   ]
  },
  {
   "cell_type": "code",
   "execution_count": 29,
   "metadata": {},
   "outputs": [
    {
     "name": "stdout",
     "output_type": "stream",
     "text": [
      "+--------+-----+\n",
      "|children|count|\n",
      "+--------+-----+\n",
      "|       1|  324|\n",
      "|       3|  157|\n",
      "|       5|   18|\n",
      "|       4|   25|\n",
      "|       2|  240|\n",
      "|       0|  574|\n",
      "+--------+-----+\n",
      "\n"
     ]
    },
    {
     "data": {
      "text/plain": [
       "<seaborn.axisgrid.FacetGrid at 0x7f6bfc562438>"
      ]
     },
     "execution_count": 29,
     "metadata": {},
     "output_type": "execute_result"
    },
    {
     "data": {
      "image/png": "[encoded data removed]",
      "text/plain": [
       "<Figure size 360x360 with 1 Axes>"
      ]
     },
     "metadata": {
      "needs_background": "light"
     },
     "output_type": "display_data"
    }
   ],
   "source": [
    "data.groupby('children').count().show()\n",
    "sns.catplot(x='children', kind='count', data=zx)"
   ]
  },
  {
   "cell_type": "code",
   "execution_count": 41,
   "metadata": {},
   "outputs": [
    {
     "name": "stdout",
     "output_type": "stream",
     "text": [
      "Body Mass Index less than 25: 247\n",
      "Body Mass Index greater than 25: 1091\n"
     ]
    },
    {
     "data": {
      "image/png": "[encoded data removed]",
      "text/plain": [
       "<Figure size 432x288 with 1 Axes>"
      ]
     },
     "metadata": {
      "needs_background": "light"
     },
     "output_type": "display_data"
    }
   ],
   "source": [
    "x=0\n",
    "y=0\n",
    "for j in zx['bmi']:\n",
    "    if (j<=25):\n",
    "        x+=1\n",
    "    else:\n",
    "        y+=1\n",
    "print('Body Mass Index less than 25:', x)\n",
    "print('Body Mass Index greater than 25:', y)\n",
    "plt.hist(zx.bmi, bins=[0,25,55],facecolor='green', edgecolor='yellow')\n",
    "plt.show()"
   ]
  },
  {
   "cell_type": "code",
   "execution_count": 43,
   "metadata": {},
   "outputs": [
    {
     "data": {
      "text/plain": [
       "Text(0.5, 1.0, 'Age Vs Charges')"
      ]
     },
     "execution_count": 43,
     "metadata": {},
     "output_type": "execute_result"
    },
    {
     "data": {
      "image/png": "[encoded data removed]",
      "text/plain": [
       "<Figure size 1080x720 with 1 Axes>"
      ]
     },
     "metadata": {
      "needs_background": "light"
     },
     "output_type": "display_data"
    }
   ],
   "source": [
    "plt.figure(figsize=(15,10))\n",
    "sns.regplot(x='age',y='charges', data=zx)\n",
    "plt.title('Age Vs Charges')"
   ]
  },
  {
   "cell_type": "code",
   "execution_count": 47,
   "metadata": {},
   "outputs": [
    {
     "name": "stdout",
     "output_type": "stream",
     "text": [
      "Average price for three or less than three children: 11730.582377441857\n",
      "Average price for more than three children: 13321.552083806173\n"
     ]
    },
    {
     "data": {
      "text/plain": [
       "Text(0.5, 1.0, 'No. of Children Vs Charges')"
      ]
     },
     "execution_count": 47,
     "metadata": {},
     "output_type": "execute_result"
    },
    {
     "data": {
      "image/png": "[encoded data removed]",
      "text/plain": [
       "<Figure size 432x288 with 1 Axes>"
      ]
     },
     "metadata": {
      "needs_background": "light"
     },
     "output_type": "display_data"
    }
   ],
   "source": [
    "lth_mean,gth_mean = zx['charges'][zx['children'] > 3].mean(), zx['charges'][zx['children'] <= 3].mean()\n",
    "print(\"Average price for three or less than three children:\",lth_mean)\n",
    "print(\"Average price for more than three children:\",gth_mean)\n",
    "sns.pointplot(x='children',y='charges', data=zx)\n",
    "plt.title('No. of Children Vs Charges')"
   ]
  },
  {
   "cell_type": "code",
   "execution_count": 67,
   "metadata": {},
   "outputs": [
    {
     "data": {
      "text/plain": [
       "0.299008193330648"
      ]
     },
     "execution_count": 67,
     "metadata": {},
     "output_type": "execute_result"
    }
   ],
   "source": [
    "data.corr('age','charges')"
   ]
  },
  {
   "cell_type": "code",
   "execution_count": 68,
   "metadata": {},
   "outputs": [
    {
     "name": "stdout",
     "output_type": "stream",
     "text": [
      "+--------+--------+--------+-------------+------------+\n",
      "|children|max(age)|max(bmi)|max(children)|max(charges)|\n",
      "+--------+--------+--------+-------------+------------+\n",
      "|       1|      64|   52.58|            1| 58571.07448|\n",
      "|       3|      64|   46.53|            3| 60021.39897|\n",
      "|       5|      52|   46.75|            5|    19023.26|\n",
      "|       4|      61|   41.47|            4|   40182.246|\n",
      "|       2|      64|   48.07|            2|  49577.6624|\n",
      "|       0|      64|   53.13|            0| 63770.42801|\n",
      "+--------+--------+--------+-------------+------------+\n",
      "\n"
     ]
    }
   ],
   "source": [
    "data.groupBy(\"children\").max().show()"
   ]
  },
  {
   "cell_type": "code",
   "execution_count": 69,
   "metadata": {},
   "outputs": [
    {
     "name": "stdout",
     "output_type": "stream",
     "text": [
      "+---+------+------+--------+------+---------+-----------+\n",
      "|age|   sex|   bmi|children|smoker|   region|    charges|\n",
      "+---+------+------+--------+------+---------+-----------+\n",
      "| 54|female| 47.41|       0|   yes|southeast|63770.42801|\n",
      "| 45|  male| 30.36|       0|   yes|southeast|62592.87309|\n",
      "| 52|  male|34.485|       3|   yes|northwest|60021.39897|\n",
      "| 31|female|38.095|       1|   yes|northeast|58571.07448|\n",
      "| 33|female| 35.53|       0|   yes|northwest|55135.40209|\n",
      "| 60|  male|  32.8|       0|   yes|southwest|52590.82939|\n",
      "| 28|  male|  36.4|       1|   yes|southwest|51194.55914|\n",
      "| 64|  male| 36.96|       2|   yes|southeast| 49577.6624|\n",
      "| 59|  male| 41.14|       1|   yes|southeast| 48970.2476|\n",
      "| 44|female| 38.06|       0|   yes|southeast|48885.13561|\n",
      "| 63|female|  37.7|       0|   yes|southwest|   48824.45|\n",
      "| 57|  male| 42.13|       1|   yes|southeast| 48675.5177|\n",
      "| 60|  male| 40.92|       0|   yes|southeast| 48673.5588|\n",
      "| 54|  male|40.565|       3|   yes|northeast|48549.17835|\n",
      "| 61|female|36.385|       1|   yes|northeast|48517.56315|\n",
      "| 60|  male|  39.9|       0|   yes|southwest|  48173.361|\n",
      "| 64|female|  33.8|       1|   yes|southwest|   47928.03|\n",
      "| 59|female|36.765|       1|   yes|northeast|47896.79135|\n",
      "| 58|  male|36.955|       2|   yes|northwest|47496.49445|\n",
      "| 51|  male|  42.9|       2|   yes|southeast|  47462.894|\n",
      "+---+------+------+--------+------+---------+-----------+\n",
      "only showing top 20 rows\n",
      "\n"
     ]
    }
   ],
   "source": [
    "data.orderBy(data['charges'].desc()).show()"
   ]
  },
  {
   "cell_type": "code",
   "execution_count": 70,
   "metadata": {},
   "outputs": [],
   "source": [
    "from pyspark.sql.functions import isnan, when, count, col\n",
    "def get_null_value_count(data):\n",
    "    data.select([count(when(isnan(c) | col(c).isNull(),c)).alias(c) for c in data.columns]).show()"
   ]
  },
  {
   "cell_type": "code",
   "execution_count": 71,
   "metadata": {},
   "outputs": [
    {
     "name": "stdout",
     "output_type": "stream",
     "text": [
      "+---+---+---+--------+------+------+-------+\n",
      "|age|sex|bmi|children|smoker|region|charges|\n",
      "+---+---+---+--------+------+------+-------+\n",
      "|  0|  0|  0|       0|     0|     0|      0|\n",
      "+---+---+---+--------+------+------+-------+\n",
      "\n"
     ]
    }
   ],
   "source": [
    "get_null_value_count(data)"
   ]
  },
  {
   "cell_type": "code",
   "execution_count": 50,
   "metadata": {},
   "outputs": [
    {
     "data": {
      "text/plain": [
       "['sex', 'smoker', 'region']"
      ]
     },
     "execution_count": 50,
     "metadata": {},
     "output_type": "execute_result"
    }
   ],
   "source": [
    "cat_cols = [c[0] for c in data.dtypes if c[1]=='string']\n",
    "cat_cols"
   ]
  },
  {
   "cell_type": "code",
   "execution_count": 51,
   "metadata": {},
   "outputs": [
    {
     "data": {
      "text/plain": [
       "['age', 'bmi', 'children']"
      ]
     },
     "execution_count": 51,
     "metadata": {},
     "output_type": "execute_result"
    }
   ],
   "source": [
    "num_cols = [c[0] for c in df.dtypes if c[1]!='string']\n",
    "num_cols = num_cols[0:3]\n",
    "num_cols"
   ]
  },
  {
   "cell_type": "code",
   "execution_count": 54,
   "metadata": {},
   "outputs": [],
   "source": [
    "from pyspark.ml.feature import OneHotEncoder, StringIndexer, VectorAssembler, StandardScaler\n",
    "stages=[]\n",
    "for cat_col in cat_cols:\n",
    "    stringIndexer = StringIndexer(inputCol = cat_col, outputCol = cat_col + '_Index')\n",
    "    encoder = OneHotEncoder(inputCols=[stringIndexer.getOutputCol()],outputCols = [cat_col +'_OHE'])\n",
    "    stages += [stringIndexer, encoder]\n",
    "assemblerInputs = [c + '_OHE' for c in cat_cols] + num_cols\n",
    "assembler = VectorAssembler(inputCols=assemblerInputs, outputCol='asv_features')\n",
    "stages += [assembler]\n",
    "ss = StandardScaler(inputCol='asv_features', outputCol='features')\n",
    "stages += [ss]"
   ]
  },
  {
   "cell_type": "code",
   "execution_count": 57,
   "metadata": {},
   "outputs": [],
   "source": [
    "from pyspark.ml import Pipeline\n",
    "pipeline = Pipeline(stages = stages)\n",
    "pipelineModel = pipeline.fit(data)\n",
    "data_pipetrans = pipelineModel.transform(data)\n",
    "data_trans = data_pipetrans.select('features','charges')"
   ]
  },
  {
   "cell_type": "code",
   "execution_count": 58,
   "metadata": {},
   "outputs": [],
   "source": [
    "data_trans = data_trans.withColumnRenamed('charges','label')"
   ]
  },
  {
   "cell_type": "code",
   "execution_count": 59,
   "metadata": {},
   "outputs": [],
   "source": [
    "train_data, test_data = data_trans.randomSplit([0.7,0.3], seed = 1234)"
   ]
  },
  {
   "cell_type": "code",
   "execution_count": 60,
   "metadata": {},
   "outputs": [],
   "source": [
    "from pyspark.ml.regression import LinearRegression\n",
    "zp = LinearRegression(featuresCol='features',labelCol='label')\n",
    "zp_model = zp.fit(train_data)"
   ]
  },
  {
   "cell_type": "code",
   "execution_count": 62,
   "metadata": {},
   "outputs": [
    {
     "name": "stdout",
     "output_type": "stream",
     "text": [
      "MAE:  4156.93024116977\n",
      "MSE:  35294045.11896927\n",
      "RMSE:  5940.879153708588\n",
      "R2:  0.7514985778969564\n"
     ]
    }
   ],
   "source": [
    "trainSummary=zp_model.summary\n",
    "print(\"MAE: \", trainSummary.meanAbsoluteError)\n",
    "print(\"MSE: \", trainSummary.meanSquaredError)\n",
    "print(\"RMSE: \", trainSummary.rootMeanSquaredError)\n",
    "print(\"R2: \", trainSummary.r2)"
   ]
  },
  {
   "cell_type": "code",
   "execution_count": 63,
   "metadata": {},
   "outputs": [
    {
     "name": "stdout",
     "output_type": "stream",
     "text": [
      "+--------------------+-------------------+----------+\n",
      "|            features|         prediction|     label|\n",
      "+--------------------+-------------------+----------+\n",
      "|(8,[0,1,5,6],[1.9...|-2231.7923860140763| 1694.7964|\n",
      "|(8,[0,1,5,6],[1.9...| -305.2379873113532| 1702.4553|\n",
      "|(8,[0,1,5,6],[1.9...|  491.9569362897746| 1705.6245|\n",
      "|(8,[0,1,5,6],[1.9...|  7204.609924282191|3268.84665|\n",
      "|(8,[0,1,5,6],[1.9...|  8451.691516250417|12404.8791|\n",
      "+--------------------+-------------------+----------+\n",
      "only showing top 5 rows\n",
      "\n"
     ]
    }
   ],
   "source": [
    "zp_predictions = zp_model.transform(test_data)\n",
    "zp_predictions.select('features','prediction','label').show(5)"
   ]
  },
  {
   "cell_type": "code",
   "execution_count": 65,
   "metadata": {},
   "outputs": [
    {
     "name": "stdout",
     "output_type": "stream",
     "text": [
      "R Squared on test data:  0.7470182227409288\n"
     ]
    }
   ],
   "source": [
    "from pyspark.ml.evaluation import RegressionEvaluator\n",
    "lm_evaluator = RegressionEvaluator(predictionCol = 'prediction',labelCol='label',metricName='r2')\n",
    "print(\"R Squared on test data: \", lm_evaluator.evaluate(zp_predictions))"
   ]
  },
  {
   "cell_type": "code",
   "execution_count": 66,
   "metadata": {},
   "outputs": [
    {
     "name": "stdout",
     "output_type": "stream",
     "text": [
      "MAE:  4294.353080248329\n",
      "MSE:  39767469.09471185\n",
      "RMSE:  6306.1453436082365\n",
      "R2:  0.7470182227409288\n"
     ]
    }
   ],
   "source": [
    "# Displaying metrics of the model over test data\n",
    "res = zp_model.evaluate(test_data)\n",
    "print(\"MAE: \", res.meanAbsoluteError)\n",
    "print(\"MSE: \", res.meanSquaredError)\n",
    "print(\"RMSE: \", res.rootMeanSquaredError)\n",
    "print(\"R2: \", res.r2)"
   ]
  },
  {
   "cell_type": "code",
   "execution_count": null,
   "metadata": {},
   "outputs": [],
   "source": []
  }
 ],
 "metadata": {
  "kernelspec": {
   "display_name": "Python 3",
   "language": "python",
   "name": "python3"
  },
  "language_info": {
   "codemirror_mode": {
    "name": "ipython",
    "version": 3
   },
   "file_extension": ".py",
   "mimetype": "text/x-python",
   "name": "python",
   "nbconvert_exporter": "python",
   "pygments_lexer": "ipython3",
   "version": "3.7.3"
  }
 },
 "nbformat": 4,
 "nbformat_minor": 2
}
